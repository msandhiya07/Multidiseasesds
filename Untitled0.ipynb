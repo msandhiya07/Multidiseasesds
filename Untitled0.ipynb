{
  "nbformat": 4,
  "nbformat_minor": 0,
  "metadata": {
    "colab": {
      "provenance": [],
      "authorship_tag": "ABX9TyOTNEEqj1PzQv3M3hTW5JHV",
      "include_colab_link": true
    },
    "kernelspec": {
      "name": "python3",
      "display_name": "Python 3"
    },
    "language_info": {
      "name": "python"
    }
  },
  "cells": [
    {
      "cell_type": "markdown",
      "metadata": {
        "id": "view-in-github",
        "colab_type": "text"
      },
      "source": [
        "<a href=\"https://colab.research.google.com/github/msandhiya07/Multidiseasesds/blob/main/Untitled0.ipynb\" target=\"_parent\"><img src=\"https://colab.research.google.com/assets/colab-badge.svg\" alt=\"Open In Colab\"/></a>"
      ]
    },
    {
      "cell_type": "code",
      "execution_count": 1,
      "metadata": {
        "id": "ezuloRh7XSTb"
      },
      "outputs": [],
      "source": [
        "import pandas as pd"
      ]
    },
    {
      "cell_type": "code",
      "source": [
        "df = pd.read_csv('/content/indian_liver_patient - indian_liver_patient.csv')"
      ],
      "metadata": {
        "id": "yTHc1DDbXqHi"
      },
      "execution_count": 2,
      "outputs": []
    },
    {
      "cell_type": "code",
      "source": [
        "print(df.head())"
      ],
      "metadata": {
        "colab": {
          "base_uri": "https://localhost:8080/"
        },
        "id": "AO0BFeRnX5-Q",
        "outputId": "38035aea-425a-48f1-b95f-8ec0dc3d79d3"
      },
      "execution_count": 3,
      "outputs": [
        {
          "output_type": "stream",
          "name": "stdout",
          "text": [
            "   Age  Gender  Total_Bilirubin  Direct_Bilirubin  Alkaline_Phosphotase  \\\n",
            "0   65  Female              0.7               0.1                   187   \n",
            "1   62    Male             10.9               5.5                   699   \n",
            "2   62    Male              7.3               4.1                   490   \n",
            "3   58    Male              1.0               0.4                   182   \n",
            "4   72    Male              3.9               2.0                   195   \n",
            "\n",
            "   Alamine_Aminotransferase  Aspartate_Aminotransferase  Total_Protiens  \\\n",
            "0                        16                          18             6.8   \n",
            "1                        64                         100             7.5   \n",
            "2                        60                          68             7.0   \n",
            "3                        14                          20             6.8   \n",
            "4                        27                          59             7.3   \n",
            "\n",
            "   Albumin  Albumin_and_Globulin_Ratio  Dataset  \n",
            "0      3.3                        0.90        1  \n",
            "1      3.2                        0.74        1  \n",
            "2      3.3                        0.89        1  \n",
            "3      3.4                        1.00        1  \n",
            "4      2.4                        0.40        1  \n"
          ]
        }
      ]
    },
    {
      "cell_type": "code",
      "source": [
        "print(df.info())"
      ],
      "metadata": {
        "colab": {
          "base_uri": "https://localhost:8080/"
        },
        "id": "VKy6aOHZYCCG",
        "outputId": "563d6286-4c3a-4516-ded2-4d8c3bef8151"
      },
      "execution_count": 4,
      "outputs": [
        {
          "output_type": "stream",
          "name": "stdout",
          "text": [
            "<class 'pandas.core.frame.DataFrame'>\n",
            "RangeIndex: 583 entries, 0 to 582\n",
            "Data columns (total 11 columns):\n",
            " #   Column                      Non-Null Count  Dtype  \n",
            "---  ------                      --------------  -----  \n",
            " 0   Age                         583 non-null    int64  \n",
            " 1   Gender                      583 non-null    object \n",
            " 2   Total_Bilirubin             583 non-null    float64\n",
            " 3   Direct_Bilirubin            583 non-null    float64\n",
            " 4   Alkaline_Phosphotase        583 non-null    int64  \n",
            " 5   Alamine_Aminotransferase    583 non-null    int64  \n",
            " 6   Aspartate_Aminotransferase  583 non-null    int64  \n",
            " 7   Total_Protiens              583 non-null    float64\n",
            " 8   Albumin                     583 non-null    float64\n",
            " 9   Albumin_and_Globulin_Ratio  579 non-null    float64\n",
            " 10  Dataset                     583 non-null    int64  \n",
            "dtypes: float64(5), int64(5), object(1)\n",
            "memory usage: 50.2+ KB\n",
            "None\n"
          ]
        }
      ]
    },
    {
      "cell_type": "code",
      "source": [
        "print(df.isnull().sum())\n"
      ],
      "metadata": {
        "colab": {
          "base_uri": "https://localhost:8080/"
        },
        "id": "NpSS1aRoYFaI",
        "outputId": "08885211-ec45-4f7c-98bd-6ecede68c088"
      },
      "execution_count": 5,
      "outputs": [
        {
          "output_type": "stream",
          "name": "stdout",
          "text": [
            "Age                           0\n",
            "Gender                        0\n",
            "Total_Bilirubin               0\n",
            "Direct_Bilirubin              0\n",
            "Alkaline_Phosphotase          0\n",
            "Alamine_Aminotransferase      0\n",
            "Aspartate_Aminotransferase    0\n",
            "Total_Protiens                0\n",
            "Albumin                       0\n",
            "Albumin_and_Globulin_Ratio    4\n",
            "Dataset                       0\n",
            "dtype: int64\n"
          ]
        }
      ]
    },
    {
      "cell_type": "code",
      "source": [
        "print(df.describe())"
      ],
      "metadata": {
        "colab": {
          "base_uri": "https://localhost:8080/"
        },
        "id": "AE5bjqpSYFgB",
        "outputId": "7f1a59f8-b393-4936-d6b9-99f64487f6a1"
      },
      "execution_count": 6,
      "outputs": [
        {
          "output_type": "stream",
          "name": "stdout",
          "text": [
            "              Age  Total_Bilirubin  Direct_Bilirubin  Alkaline_Phosphotase  \\\n",
            "count  583.000000       583.000000        583.000000            583.000000   \n",
            "mean    44.746141         3.298799          1.486106            290.576329   \n",
            "std     16.189833         6.209522          2.808498            242.937989   \n",
            "min      4.000000         0.400000          0.100000             63.000000   \n",
            "25%     33.000000         0.800000          0.200000            175.500000   \n",
            "50%     45.000000         1.000000          0.300000            208.000000   \n",
            "75%     58.000000         2.600000          1.300000            298.000000   \n",
            "max     90.000000        75.000000         19.700000           2110.000000   \n",
            "\n",
            "       Alamine_Aminotransferase  Aspartate_Aminotransferase  Total_Protiens  \\\n",
            "count                583.000000                  583.000000      583.000000   \n",
            "mean                  80.713551                  109.910806        6.483190   \n",
            "std                  182.620356                  288.918529        1.085451   \n",
            "min                   10.000000                   10.000000        2.700000   \n",
            "25%                   23.000000                   25.000000        5.800000   \n",
            "50%                   35.000000                   42.000000        6.600000   \n",
            "75%                   60.500000                   87.000000        7.200000   \n",
            "max                 2000.000000                 4929.000000        9.600000   \n",
            "\n",
            "          Albumin  Albumin_and_Globulin_Ratio     Dataset  \n",
            "count  583.000000                  579.000000  583.000000  \n",
            "mean     3.141852                    0.947064    1.286449  \n",
            "std      0.795519                    0.319592    0.452490  \n",
            "min      0.900000                    0.300000    1.000000  \n",
            "25%      2.600000                    0.700000    1.000000  \n",
            "50%      3.100000                    0.930000    1.000000  \n",
            "75%      3.800000                    1.100000    2.000000  \n",
            "max      5.500000                    2.800000    2.000000  \n"
          ]
        }
      ]
    },
    {
      "cell_type": "code",
      "source": [],
      "metadata": {
        "id": "tumh8RqEX9cw"
      },
      "execution_count": null,
      "outputs": []
    }
  ]
}